{
  "cells": [
    {
      "cell_type": "code",
      "source": "import pandas as pd\n\ndf = pd.read_csv('/work/cars_26db3042-183f-4866-8b00-b607e8c2243b.csv')\ndf.head()",
      "metadata": {
        "source_hash": "bdbb87d6",
        "execution_start": 1708720541659,
        "execution_millis": 985,
        "deepnote_to_be_reexecuted": false,
        "cell_id": "8f57ac82ed1641cd897988b40bda4c63",
        "deepnote_cell_type": "code"
      },
      "outputs": [
        {
          "output_type": "execute_result",
          "execution_count": 1,
          "data": {
            "application/vnd.deepnote.dataframe.v3+json": {
              "column_count": 30,
              "row_count": 5,
              "columns": [
                {
                  "name": "manufacturer_name",
                  "dtype": "object",
                  "stats": {
                    "unique_count": 1,
                    "nan_count": 0,
                    "categories": [
                      {
                        "name": "Subaru",
                        "count": 5
                      }
                    ]
                  }
                },
                {
                  "name": "model_name",
                  "dtype": "object",
                  "stats": {
                    "unique_count": 4,
                    "nan_count": 0,
                    "categories": [
                      {
                        "name": "Outback",
                        "count": 2
                      },
                      {
                        "name": "Forester",
                        "count": 1
                      },
                      {
                        "name": "2 others",
                        "count": 2
                      }
                    ]
                  }
                },
                {
                  "name": "transmission",
                  "dtype": "object",
                  "stats": {
                    "unique_count": 2,
                    "nan_count": 0,
                    "categories": [
                      {
                        "name": "automatic",
                        "count": 4
                      },
                      {
                        "name": "mechanical",
                        "count": 1
                      }
                    ]
                  }
                },
                {
                  "name": "color",
                  "dtype": "object",
                  "stats": {
                    "unique_count": 4,
                    "nan_count": 0,
                    "categories": [
                      {
                        "name": "blue",
                        "count": 2
                      },
                      {
                        "name": "silver",
                        "count": 1
                      },
                      {
                        "name": "2 others",
                        "count": 2
                      }
                    ]
                  }
                },
                {
                  "name": "odometer_value",
                  "dtype": "int64",
                  "stats": {
                    "unique_count": 5,
                    "nan_count": 0,
                    "min": "10000",
                    "max": "402000",
                    "histogram": [
                      {
                        "bin_start": 10000,
                        "bin_end": 49200,
                        "count": 1
                      },
                      {
                        "bin_start": 49200,
                        "bin_end": 88400,
                        "count": 0
                      },
                      {
                        "bin_start": 88400,
                        "bin_end": 127600,
                        "count": 0
                      },
                      {
                        "bin_start": 127600,
                        "bin_end": 166800,
                        "count": 0
                      },
                      {
                        "bin_start": 166800,
                        "bin_end": 206000,
                        "count": 1
                      },
                      {
                        "bin_start": 206000,
                        "bin_end": 245200,
                        "count": 0
                      },
                      {
                        "bin_start": 245200,
                        "bin_end": 284400,
                        "count": 1
                      },
                      {
                        "bin_start": 284400,
                        "bin_end": 323600,
                        "count": 1
                      },
                      {
                        "bin_start": 323600,
                        "bin_end": 362800,
                        "count": 0
                      },
                      {
                        "bin_start": 362800,
                        "bin_end": 402000,
                        "count": 1
                      }
                    ]
                  }
                },
                {
                  "name": "year_produced",
                  "dtype": "int64",
                  "stats": {
                    "unique_count": 4,
                    "nan_count": 0,
                    "min": "1999",
                    "max": "2010",
                    "histogram": [
                      {
                        "bin_start": 1999,
                        "bin_end": 2000.1,
                        "count": 1
                      },
                      {
                        "bin_start": 2000.1,
                        "bin_end": 2001.2,
                        "count": 2
                      },
                      {
                        "bin_start": 2001.2,
                        "bin_end": 2002.3,
                        "count": 1
                      },
                      {
                        "bin_start": 2002.3,
                        "bin_end": 2003.4,
                        "count": 0
                      },
                      {
                        "bin_start": 2003.4,
                        "bin_end": 2004.5,
                        "count": 0
                      },
                      {
                        "bin_start": 2004.5,
                        "bin_end": 2005.6,
                        "count": 0
                      },
                      {
                        "bin_start": 2005.6,
                        "bin_end": 2006.7,
                        "count": 0
                      },
                      {
                        "bin_start": 2006.7,
                        "bin_end": 2007.8,
                        "count": 0
                      },
                      {
                        "bin_start": 2007.8,
                        "bin_end": 2008.9,
                        "count": 0
                      },
                      {
                        "bin_start": 2008.9,
                        "bin_end": 2010,
                        "count": 1
                      }
                    ]
                  }
                },
                {
                  "name": "engine_fuel",
                  "dtype": "object",
                  "stats": {
                    "unique_count": 1,
                    "nan_count": 0,
                    "categories": [
                      {
                        "name": "gasoline",
                        "count": 5
                      }
                    ]
                  }
                },
                {
                  "name": "engine_has_gas",
                  "dtype": "bool",
                  "stats": {
                    "unique_count": 1,
                    "nan_count": 0,
                    "categories": [
                      {
                        "name": "False",
                        "count": 5
                      }
                    ]
                  }
                },
                {
                  "name": "engine_type",
                  "dtype": "object",
                  "stats": {
                    "unique_count": 1,
                    "nan_count": 0,
                    "categories": [
                      {
                        "name": "gasoline",
                        "count": 5
                      }
                    ]
                  }
                },
                {
                  "name": "engine_capacity",
                  "dtype": "float64",
                  "stats": {
                    "unique_count": 2,
                    "nan_count": 0,
                    "min": "2.5",
                    "max": "3.0",
                    "histogram": [
                      {
                        "bin_start": 2.5,
                        "bin_end": 2.55,
                        "count": 3
                      },
                      {
                        "bin_start": 2.55,
                        "bin_end": 2.6,
                        "count": 0
                      },
                      {
                        "bin_start": 2.6,
                        "bin_end": 2.65,
                        "count": 0
                      },
                      {
                        "bin_start": 2.65,
                        "bin_end": 2.7,
                        "count": 0
                      },
                      {
                        "bin_start": 2.7,
                        "bin_end": 2.75,
                        "count": 0
                      },
                      {
                        "bin_start": 2.75,
                        "bin_end": 2.8,
                        "count": 0
                      },
                      {
                        "bin_start": 2.8,
                        "bin_end": 2.85,
                        "count": 0
                      },
                      {
                        "bin_start": 2.85,
                        "bin_end": 2.9,
                        "count": 0
                      },
                      {
                        "bin_start": 2.9,
                        "bin_end": 2.95,
                        "count": 0
                      },
                      {
                        "bin_start": 2.95,
                        "bin_end": 3,
                        "count": 2
                      }
                    ]
                  }
                },
                {
                  "name": "body_type",
                  "dtype": "object",
                  "stats": {
                    "unique_count": 3,
                    "nan_count": 0,
                    "categories": [
                      {
                        "name": "universal",
                        "count": 3
                      },
                      {
                        "name": "suv",
                        "count": 1
                      },
                      {
                        "name": "sedan",
                        "count": 1
                      }
                    ]
                  }
                },
                {
                  "name": "has_warranty",
                  "dtype": "bool",
                  "stats": {
                    "unique_count": 1,
                    "nan_count": 0,
                    "categories": [
                      {
                        "name": "False",
                        "count": 5
                      }
                    ]
                  }
                },
                {
                  "name": "state",
                  "dtype": "object",
                  "stats": {
                    "unique_count": 1,
                    "nan_count": 0,
                    "categories": [
                      {
                        "name": "owned",
                        "count": 5
                      }
                    ]
                  }
                },
                {
                  "name": "drivetrain",
                  "dtype": "object",
                  "stats": {
                    "unique_count": 1,
                    "nan_count": 0,
                    "categories": [
                      {
                        "name": "all",
                        "count": 5
                      }
                    ]
                  }
                },
                {
                  "name": "price_usd",
                  "dtype": "float64",
                  "stats": {
                    "unique_count": 5,
                    "nan_count": 0,
                    "min": "2134.11",
                    "max": "10900.0",
                    "histogram": [
                      {
                        "bin_start": 2134.11,
                        "bin_end": 3010.699,
                        "count": 2
                      },
                      {
                        "bin_start": 3010.699,
                        "bin_end": 3887.288,
                        "count": 0
                      },
                      {
                        "bin_start": 3887.288,
                        "bin_end": 4763.877,
                        "count": 0
                      },
                      {
                        "bin_start": 4763.877,
                        "bin_end": 5640.466,
                        "count": 1
                      },
                      {
                        "bin_start": 5640.466,
                        "bin_end": 6517.055,
                        "count": 0
                      },
                      {
                        "bin_start": 6517.055,
                        "bin_end": 7393.644,
                        "count": 0
                      },
                      {
                        "bin_start": 7393.644,
                        "bin_end": 8270.233,
                        "count": 0
                      },
                      {
                        "bin_start": 8270.233,
                        "bin_end": 9146.822,
                        "count": 0
                      },
                      {
                        "bin_start": 9146.822,
                        "bin_end": 10023.411,
                        "count": 1
                      },
                      {
                        "bin_start": 10023.411,
                        "bin_end": 10900,
                        "count": 1
                      }
                    ]
                  }
                },
                {
                  "name": "is_exchangeable",
                  "dtype": "bool",
                  "stats": {
                    "unique_count": 2,
                    "nan_count": 0,
                    "categories": [
                      {
                        "name": "True",
                        "count": 4
                      },
                      {
                        "name": "False",
                        "count": 1
                      }
                    ]
                  }
                },
                {
                  "name": "location_region",
                  "dtype": "object",
                  "stats": {
                    "unique_count": 2,
                    "nan_count": 0,
                    "categories": [
                      {
                        "name": "Минская обл.",
                        "count": 4
                      },
                      {
                        "name": "Гомельская обл.",
                        "count": 1
                      }
                    ]
                  }
                },
                {
                  "name": "number_of_photos",
                  "dtype": "int64",
                  "stats": {
                    "unique_count": 4,
                    "nan_count": 0,
                    "min": "4",
                    "max": "14",
                    "histogram": [
                      {
                        "bin_start": 4,
                        "bin_end": 5,
                        "count": 1
                      },
                      {
                        "bin_start": 5,
                        "bin_end": 6,
                        "count": 0
                      },
                      {
                        "bin_start": 6,
                        "bin_end": 7,
                        "count": 0
                      },
                      {
                        "bin_start": 7,
                        "bin_end": 8,
                        "count": 0
                      },
                      {
                        "bin_start": 8,
                        "bin_end": 9,
                        "count": 0
                      },
                      {
                        "bin_start": 9,
                        "bin_end": 10,
                        "count": 2
                      },
                      {
                        "bin_start": 10,
                        "bin_end": 11,
                        "count": 0
                      },
                      {
                        "bin_start": 11,
                        "bin_end": 12,
                        "count": 0
                      },
                      {
                        "bin_start": 12,
                        "bin_end": 13,
                        "count": 1
                      },
                      {
                        "bin_start": 13,
                        "bin_end": 14,
                        "count": 1
                      }
                    ]
                  }
                },
                {
                  "name": "up_counter",
                  "dtype": "int64",
                  "stats": {
                    "unique_count": 5,
                    "nan_count": 0,
                    "min": "7",
                    "max": "72",
                    "histogram": [
                      {
                        "bin_start": 7,
                        "bin_end": 13.5,
                        "count": 2
                      },
                      {
                        "bin_start": 13.5,
                        "bin_end": 20,
                        "count": 0
                      },
                      {
                        "bin_start": 20,
                        "bin_end": 26.5,
                        "count": 0
                      },
                      {
                        "bin_start": 26.5,
                        "bin_end": 33,
                        "count": 0
                      },
                      {
                        "bin_start": 33,
                        "bin_end": 39.5,
                        "count": 0
                      },
                      {
                        "bin_start": 39.5,
                        "bin_end": 46,
                        "count": 1
                      },
                      {
                        "bin_start": 46,
                        "bin_end": 52.5,
                        "count": 0
                      },
                      {
                        "bin_start": 52.5,
                        "bin_end": 59,
                        "count": 1
                      },
                      {
                        "bin_start": 59,
                        "bin_end": 65.5,
                        "count": 0
                      },
                      {
                        "bin_start": 65.5,
                        "bin_end": 72,
                        "count": 1
                      }
                    ]
                  }
                },
                {
                  "name": "feature_0",
                  "dtype": "bool",
                  "stats": {
                    "unique_count": 2,
                    "nan_count": 0,
                    "categories": [
                      {
                        "name": "False",
                        "count": 4
                      },
                      {
                        "name": "True",
                        "count": 1
                      }
                    ]
                  }
                },
                {
                  "name": "feature_1",
                  "dtype": "bool",
                  "stats": {
                    "unique_count": 2,
                    "nan_count": 0,
                    "categories": [
                      {
                        "name": "True",
                        "count": 4
                      },
                      {
                        "name": "False",
                        "count": 1
                      }
                    ]
                  }
                },
                {
                  "name": "feature_2",
                  "dtype": "bool",
                  "stats": {
                    "unique_count": 2,
                    "nan_count": 0,
                    "categories": [
                      {
                        "name": "False",
                        "count": 4
                      },
                      {
                        "name": "True",
                        "count": 1
                      }
                    ]
                  }
                },
                {
                  "name": "feature_3",
                  "dtype": "bool",
                  "stats": {
                    "unique_count": 2,
                    "nan_count": 0,
                    "categories": [
                      {
                        "name": "False",
                        "count": 3
                      },
                      {
                        "name": "True",
                        "count": 2
                      }
                    ]
                  }
                },
                {
                  "name": "feature_4",
                  "dtype": "bool",
                  "stats": {
                    "unique_count": 2,
                    "nan_count": 0,
                    "categories": [
                      {
                        "name": "False",
                        "count": 3
                      },
                      {
                        "name": "True",
                        "count": 2
                      }
                    ]
                  }
                },
                {
                  "name": "feature_5",
                  "dtype": "bool",
                  "stats": {
                    "unique_count": 2,
                    "nan_count": 0,
                    "categories": [
                      {
                        "name": "False",
                        "count": 3
                      },
                      {
                        "name": "True",
                        "count": 2
                      }
                    ]
                  }
                },
                {
                  "name": "feature_6",
                  "dtype": "bool",
                  "stats": {
                    "unique_count": 1,
                    "nan_count": 0,
                    "categories": [
                      {
                        "name": "False",
                        "count": 5
                      }
                    ]
                  }
                },
                {
                  "name": "feature_7",
                  "dtype": "bool",
                  "stats": {
                    "unique_count": 2,
                    "nan_count": 0,
                    "categories": [
                      {
                        "name": "False",
                        "count": 4
                      },
                      {
                        "name": "True",
                        "count": 1
                      }
                    ]
                  }
                },
                {
                  "name": "feature_8",
                  "dtype": "bool",
                  "stats": {
                    "unique_count": 2,
                    "nan_count": 0,
                    "categories": [
                      {
                        "name": "False",
                        "count": 3
                      },
                      {
                        "name": "True",
                        "count": 2
                      }
                    ]
                  }
                },
                {
                  "name": "feature_9",
                  "dtype": "bool",
                  "stats": {
                    "unique_count": 2,
                    "nan_count": 0,
                    "categories": [
                      {
                        "name": "True",
                        "count": 4
                      },
                      {
                        "name": "False",
                        "count": 1
                      }
                    ]
                  }
                },
                {
                  "name": "duration_listed",
                  "dtype": "int64",
                  "stats": {
                    "unique_count": 5,
                    "nan_count": 0,
                    "min": "7",
                    "max": "151",
                    "histogram": [
                      {
                        "bin_start": 7,
                        "bin_end": 21.4,
                        "count": 2
                      },
                      {
                        "bin_start": 21.4,
                        "bin_end": 35.8,
                        "count": 0
                      },
                      {
                        "bin_start": 35.8,
                        "bin_end": 50.2,
                        "count": 0
                      },
                      {
                        "bin_start": 50.2,
                        "bin_end": 64.6,
                        "count": 0
                      },
                      {
                        "bin_start": 64.6,
                        "bin_end": 79,
                        "count": 0
                      },
                      {
                        "bin_start": 79,
                        "bin_end": 93.4,
                        "count": 2
                      },
                      {
                        "bin_start": 93.4,
                        "bin_end": 107.8,
                        "count": 0
                      },
                      {
                        "bin_start": 107.8,
                        "bin_end": 122.2,
                        "count": 0
                      },
                      {
                        "bin_start": 122.2,
                        "bin_end": 136.6,
                        "count": 0
                      },
                      {
                        "bin_start": 136.6,
                        "bin_end": 151,
                        "count": 1
                      }
                    ]
                  }
                },
                {
                  "name": "_deepnote_index_column",
                  "dtype": "int64"
                }
              ],
              "rows": [
                {
                  "manufacturer_name": "Subaru",
                  "model_name": "Outback",
                  "transmission": "automatic",
                  "color": "silver",
                  "odometer_value": 190000,
                  "year_produced": 2010,
                  "engine_fuel": "gasoline",
                  "engine_has_gas": "False",
                  "engine_type": "gasoline",
                  "engine_capacity": 2.5,
                  "body_type": "universal",
                  "has_warranty": "False",
                  "state": "owned",
                  "drivetrain": "all",
                  "price_usd": 10900,
                  "is_exchangeable": "False",
                  "location_region": "Минская обл.",
                  "number_of_photos": 9,
                  "up_counter": 13,
                  "feature_0": "False",
                  "feature_1": "True",
                  "feature_2": "True",
                  "feature_3": "True",
                  "feature_4": "False",
                  "feature_5": "True",
                  "feature_6": "False",
                  "feature_7": "True",
                  "feature_8": "True",
                  "feature_9": "True",
                  "duration_listed": 16,
                  "_deepnote_index_column": 0
                },
                {
                  "manufacturer_name": "Subaru",
                  "model_name": "Outback",
                  "transmission": "automatic",
                  "color": "blue",
                  "odometer_value": 290000,
                  "year_produced": 2002,
                  "engine_fuel": "gasoline",
                  "engine_has_gas": "False",
                  "engine_type": "gasoline",
                  "engine_capacity": 3,
                  "body_type": "universal",
                  "has_warranty": "False",
                  "state": "owned",
                  "drivetrain": "all",
                  "price_usd": 5000,
                  "is_exchangeable": "True",
                  "location_region": "Минская обл.",
                  "number_of_photos": 12,
                  "up_counter": 54,
                  "feature_0": "False",
                  "feature_1": "True",
                  "feature_2": "False",
                  "feature_3": "False",
                  "feature_4": "True",
                  "feature_5": "True",
                  "feature_6": "False",
                  "feature_7": "False",
                  "feature_8": "False",
                  "feature_9": "True",
                  "duration_listed": 83,
                  "_deepnote_index_column": 1
                },
                {
                  "manufacturer_name": "Subaru",
                  "model_name": "Forester",
                  "transmission": "automatic",
                  "color": "red",
                  "odometer_value": 402000,
                  "year_produced": 2001,
                  "engine_fuel": "gasoline",
                  "engine_has_gas": "False",
                  "engine_type": "gasoline",
                  "engine_capacity": 2.5,
                  "body_type": "suv",
                  "has_warranty": "False",
                  "state": "owned",
                  "drivetrain": "all",
                  "price_usd": 2800,
                  "is_exchangeable": "True",
                  "location_region": "Минская обл.",
                  "number_of_photos": 4,
                  "up_counter": 72,
                  "feature_0": "False",
                  "feature_1": "True",
                  "feature_2": "False",
                  "feature_3": "False",
                  "feature_4": "False",
                  "feature_5": "False",
                  "feature_6": "False",
                  "feature_7": "False",
                  "feature_8": "True",
                  "feature_9": "True",
                  "duration_listed": 151,
                  "_deepnote_index_column": 2
                },
                {
                  "manufacturer_name": "Subaru",
                  "model_name": "Impreza",
                  "transmission": "mechanical",
                  "color": "blue",
                  "odometer_value": 10000,
                  "year_produced": 1999,
                  "engine_fuel": "gasoline",
                  "engine_has_gas": "False",
                  "engine_type": "gasoline",
                  "engine_capacity": 3,
                  "body_type": "sedan",
                  "has_warranty": "False",
                  "state": "owned",
                  "drivetrain": "all",
                  "price_usd": 9999,
                  "is_exchangeable": "True",
                  "location_region": "Минская обл.",
                  "number_of_photos": 9,
                  "up_counter": 42,
                  "feature_0": "True",
                  "feature_1": "False",
                  "feature_2": "False",
                  "feature_3": "False",
                  "feature_4": "False",
                  "feature_5": "False",
                  "feature_6": "False",
                  "feature_7": "False",
                  "feature_8": "False",
                  "feature_9": "False",
                  "duration_listed": 86,
                  "_deepnote_index_column": 3
                },
                {
                  "manufacturer_name": "Subaru",
                  "model_name": "Legacy",
                  "transmission": "automatic",
                  "color": "black",
                  "odometer_value": 280000,
                  "year_produced": 2001,
                  "engine_fuel": "gasoline",
                  "engine_has_gas": "False",
                  "engine_type": "gasoline",
                  "engine_capacity": 2.5,
                  "body_type": "universal",
                  "has_warranty": "False",
                  "state": "owned",
                  "drivetrain": "all",
                  "price_usd": 2134.11,
                  "is_exchangeable": "True",
                  "location_region": "Гомельская обл.",
                  "number_of_photos": 14,
                  "up_counter": 7,
                  "feature_0": "False",
                  "feature_1": "True",
                  "feature_2": "False",
                  "feature_3": "True",
                  "feature_4": "True",
                  "feature_5": "False",
                  "feature_6": "False",
                  "feature_7": "False",
                  "feature_8": "False",
                  "feature_9": "True",
                  "duration_listed": 7,
                  "_deepnote_index_column": 4
                }
              ]
            },
            "text/plain": "  manufacturer_name model_name transmission   color  odometer_value  \\\n0            Subaru    Outback    automatic  silver          190000   \n1            Subaru    Outback    automatic    blue          290000   \n2            Subaru   Forester    automatic     red          402000   \n3            Subaru    Impreza   mechanical    blue           10000   \n4            Subaru     Legacy    automatic   black          280000   \n\n   year_produced engine_fuel  engine_has_gas engine_type  engine_capacity  \\\n0           2010    gasoline           False    gasoline              2.5   \n1           2002    gasoline           False    gasoline              3.0   \n2           2001    gasoline           False    gasoline              2.5   \n3           1999    gasoline           False    gasoline              3.0   \n4           2001    gasoline           False    gasoline              2.5   \n\n   ... feature_1  feature_2 feature_3 feature_4  feature_5  feature_6  \\\n0  ...      True       True      True     False       True      False   \n1  ...      True      False     False      True       True      False   \n2  ...      True      False     False     False      False      False   \n3  ...     False      False     False     False      False      False   \n4  ...      True      False      True      True      False      False   \n\n  feature_7  feature_8  feature_9  duration_listed  \n0      True       True       True               16  \n1     False      False       True               83  \n2     False       True       True              151  \n3     False      False      False               86  \n4     False      False       True                7  \n\n[5 rows x 30 columns]",
            "text/html": "<div>\n<style scoped>\n    .dataframe tbody tr th:only-of-type {\n        vertical-align: middle;\n    }\n\n    .dataframe tbody tr th {\n        vertical-align: top;\n    }\n\n    .dataframe thead th {\n        text-align: right;\n    }\n</style>\n<table border=\"1\" class=\"dataframe\">\n  <thead>\n    <tr style=\"text-align: right;\">\n      <th></th>\n      <th>manufacturer_name</th>\n      <th>model_name</th>\n      <th>transmission</th>\n      <th>color</th>\n      <th>odometer_value</th>\n      <th>year_produced</th>\n      <th>engine_fuel</th>\n      <th>engine_has_gas</th>\n      <th>engine_type</th>\n      <th>engine_capacity</th>\n      <th>...</th>\n      <th>feature_1</th>\n      <th>feature_2</th>\n      <th>feature_3</th>\n      <th>feature_4</th>\n      <th>feature_5</th>\n      <th>feature_6</th>\n      <th>feature_7</th>\n      <th>feature_8</th>\n      <th>feature_9</th>\n      <th>duration_listed</th>\n    </tr>\n  </thead>\n  <tbody>\n    <tr>\n      <th>0</th>\n      <td>Subaru</td>\n      <td>Outback</td>\n      <td>automatic</td>\n      <td>silver</td>\n      <td>190000</td>\n      <td>2010</td>\n      <td>gasoline</td>\n      <td>False</td>\n      <td>gasoline</td>\n      <td>2.5</td>\n      <td>...</td>\n      <td>True</td>\n      <td>True</td>\n      <td>True</td>\n      <td>False</td>\n      <td>True</td>\n      <td>False</td>\n      <td>True</td>\n      <td>True</td>\n      <td>True</td>\n      <td>16</td>\n    </tr>\n    <tr>\n      <th>1</th>\n      <td>Subaru</td>\n      <td>Outback</td>\n      <td>automatic</td>\n      <td>blue</td>\n      <td>290000</td>\n      <td>2002</td>\n      <td>gasoline</td>\n      <td>False</td>\n      <td>gasoline</td>\n      <td>3.0</td>\n      <td>...</td>\n      <td>True</td>\n      <td>False</td>\n      <td>False</td>\n      <td>True</td>\n      <td>True</td>\n      <td>False</td>\n      <td>False</td>\n      <td>False</td>\n      <td>True</td>\n      <td>83</td>\n    </tr>\n    <tr>\n      <th>2</th>\n      <td>Subaru</td>\n      <td>Forester</td>\n      <td>automatic</td>\n      <td>red</td>\n      <td>402000</td>\n      <td>2001</td>\n      <td>gasoline</td>\n      <td>False</td>\n      <td>gasoline</td>\n      <td>2.5</td>\n      <td>...</td>\n      <td>True</td>\n      <td>False</td>\n      <td>False</td>\n      <td>False</td>\n      <td>False</td>\n      <td>False</td>\n      <td>False</td>\n      <td>True</td>\n      <td>True</td>\n      <td>151</td>\n    </tr>\n    <tr>\n      <th>3</th>\n      <td>Subaru</td>\n      <td>Impreza</td>\n      <td>mechanical</td>\n      <td>blue</td>\n      <td>10000</td>\n      <td>1999</td>\n      <td>gasoline</td>\n      <td>False</td>\n      <td>gasoline</td>\n      <td>3.0</td>\n      <td>...</td>\n      <td>False</td>\n      <td>False</td>\n      <td>False</td>\n      <td>False</td>\n      <td>False</td>\n      <td>False</td>\n      <td>False</td>\n      <td>False</td>\n      <td>False</td>\n      <td>86</td>\n    </tr>\n    <tr>\n      <th>4</th>\n      <td>Subaru</td>\n      <td>Legacy</td>\n      <td>automatic</td>\n      <td>black</td>\n      <td>280000</td>\n      <td>2001</td>\n      <td>gasoline</td>\n      <td>False</td>\n      <td>gasoline</td>\n      <td>2.5</td>\n      <td>...</td>\n      <td>True</td>\n      <td>False</td>\n      <td>True</td>\n      <td>True</td>\n      <td>False</td>\n      <td>False</td>\n      <td>False</td>\n      <td>False</td>\n      <td>True</td>\n      <td>7</td>\n    </tr>\n  </tbody>\n</table>\n<p>5 rows × 30 columns</p>\n</div>"
          },
          "metadata": {}
        }
      ],
      "outputs_reference": null,
      "execution_count": 1,
      "block_group": "8f57ac82ed1641cd897988b40bda4c63"
    },
    {
      "cell_type": "code",
      "source": "df['price_usd'].mean()",
      "metadata": {
        "source_hash": "bc174504",
        "execution_start": 1708720542705,
        "execution_millis": 214,
        "deepnote_to_be_reexecuted": false,
        "cell_id": "9fc3b40d5a39497c976832eddd85b0af",
        "deepnote_cell_type": "code"
      },
      "outputs": [
        {
          "output_type": "execute_result",
          "execution_count": 2,
          "data": {
            "text/plain": "6639.971021255613"
          },
          "metadata": {}
        }
      ],
      "outputs_reference": null,
      "execution_count": 2,
      "block_group": "9a54a676bdb4427b9a147a7371d5e76c"
    },
    {
      "cell_type": "code",
      "source": "df['price_usd'].median()",
      "metadata": {
        "source_hash": "b7a97061",
        "execution_start": 1708720542711,
        "execution_millis": 209,
        "deepnote_to_be_reexecuted": false,
        "cell_id": "a2fdfdb53c544cd5bd9fab62ce0e9003",
        "deepnote_cell_type": "code"
      },
      "outputs": [
        {
          "output_type": "execute_result",
          "execution_count": 3,
          "data": {
            "text/plain": "4800.0"
          },
          "metadata": {}
        }
      ],
      "outputs_reference": null,
      "execution_count": 3,
      "block_group": "1f0e68f3a052473ebd05bf4bab639602"
    },
    {
      "cell_type": "code",
      "source": "df['price_usd'].hist(bins=20)",
      "metadata": {
        "source_hash": "793f08ea",
        "execution_start": 1708720542720,
        "execution_millis": 1242,
        "deepnote_to_be_reexecuted": false,
        "cell_id": "39c48802b3414f8db008d67892c6a3ba",
        "deepnote_cell_type": "code"
      },
      "outputs": [
        {
          "output_type": "execute_result",
          "execution_count": 4,
          "data": {
            "text/plain": "<AxesSubplot: >"
          },
          "metadata": {}
        },
        {
          "data": {
            "text/plain": "<Figure size 640x480 with 1 Axes>",
            "image/png": "[encoded data removed]"
          },
          "metadata": {
            "image/png": {
              "width": 569,
              "height": 413
            }
          },
          "output_type": "display_data"
        }
      ],
      "outputs_reference": null,
      "execution_count": 4,
      "block_group": "524ab6c6ac744dce96376c726a305aed"
    },
    {
      "cell_type": "code",
      "source": "import seaborn as sns\n\nsns.displot(df, x=\"price_usd\", hue=\"manufacturer_name\", multiple=\"stack\")",
      "metadata": {
        "source_hash": "96284120",
        "execution_start": 1708720741623,
        "execution_millis": 6627,
        "deepnote_to_be_reexecuted": false,
        "cell_id": "b57caaf438c24256a6c76e311bfa746c",
        "deepnote_cell_type": "code"
      },
      "outputs": [
        {
          "output_type": "execute_result",
          "execution_count": 6,
          "data": {
            "text/plain": "<seaborn.axisgrid.FacetGrid at 0x7f7cdc98f490>"
          },
          "metadata": {}
        },
        {
          "data": {
            "text/plain": "<Figure size 655.25x500 with 1 Axes>",
            "image/png": "[encoded data removed]"
          },
          "metadata": {
            "image/png": {
              "width": 653,
              "height": 1197
            }
          },
          "output_type": "display_data"
        }
      ],
      "outputs_reference": null,
      "execution_count": 6,
      "block_group": "3fe07a3400cd4dacbca5680d2800cb25"
    },
    {
      "cell_type": "markdown",
      "source": "",
      "metadata": {
        "formattedRanges": [],
        "cell_id": "cd4c58b9876d40dcb39a334abacc2685",
        "deepnote_cell_type": "text-cell-p"
      },
      "block_group": "b0512cf4019a4043a151c8e53174c351"
    },
    {
      "cell_type": "code",
      "source": "sns.displot(df, x=\"price_usd\", hue=\"engine_type\", multiple=\"stack\")",
      "metadata": {
        "source_hash": "db05b7a2",
        "execution_start": 1708720795991,
        "execution_millis": 817,
        "deepnote_to_be_reexecuted": false,
        "cell_id": "e0ca71ade9064466a3fd0aa13a2da991",
        "deepnote_cell_type": "code"
      },
      "outputs": [
        {
          "output_type": "execute_result",
          "execution_count": 7,
          "data": {
            "text/plain": "<seaborn.axisgrid.FacetGrid at 0x7f7cb4240e80>"
          },
          "metadata": {}
        },
        {
          "data": {
            "text/plain": "<Figure size 608.125x500 with 1 Axes>",
            "image/png": "[encoded data removed]"
          },
          "metadata": {
            "image/png": {
              "width": 606,
              "height": 489
            }
          },
          "output_type": "display_data"
        }
      ],
      "outputs_reference": null,
      "execution_count": 7,
      "block_group": "58e932e541414370abbdd56e9ab91eb0"
    },
    {
      "cell_type": "code",
      "source": "df.groupby('engine_type').count()",
      "metadata": {
        "source_hash": "4c516938",
        "execution_start": 1708720933856,
        "execution_millis": 47,
        "deepnote_to_be_reexecuted": false,
        "cell_id": "fc903d9af48941ab960d21ea410de008",
        "deepnote_cell_type": "code"
      },
      "outputs": [
        {
          "output_type": "execute_result",
          "execution_count": 8,
          "data": {
            "application/vnd.deepnote.dataframe.v3+json": {
              "column_count": 29,
              "row_count": 3,
              "columns": [
                {
                  "name": "manufacturer_name",
                  "dtype": "int64",
                  "stats": {
                    "unique_count": 3,
                    "nan_count": 0,
                    "min": "10",
                    "max": "25647",
                    "histogram": [
                      {
                        "bin_start": 10,
                        "bin_end": 2573.7,
                        "count": 1
                      },
                      {
                        "bin_start": 2573.7,
                        "bin_end": 5137.4,
                        "count": 0
                      },
                      {
                        "bin_start": 5137.4,
                        "bin_end": 7701.099999999999,
                        "count": 0
                      },
                      {
                        "bin_start": 7701.099999999999,
                        "bin_end": 10264.8,
                        "count": 0
                      },
                      {
                        "bin_start": 10264.8,
                        "bin_end": 12828.5,
                        "count": 0
                      },
                      {
                        "bin_start": 12828.5,
                        "bin_end": 15392.199999999999,
                        "count": 1
                      },
                      {
                        "bin_start": 15392.199999999999,
                        "bin_end": 17955.899999999998,
                        "count": 0
                      },
                      {
                        "bin_start": 17955.899999999998,
                        "bin_end": 20519.6,
                        "count": 0
                      },
                      {
                        "bin_start": 20519.6,
                        "bin_end": 23083.3,
                        "count": 0
                      },
                      {
                        "bin_start": 23083.3,
                        "bin_end": 25647,
                        "count": 1
                      }
                    ]
                  }
                },
                {
                  "name": "model_name",
                  "dtype": "int64",
                  "stats": {
                    "unique_count": 3,
                    "nan_count": 0,
                    "min": "10",
                    "max": "25647",
                    "histogram": [
                      {
                        "bin_start": 10,
                        "bin_end": 2573.7,
                        "count": 1
                      },
                      {
                        "bin_start": 2573.7,
                        "bin_end": 5137.4,
                        "count": 0
                      },
                      {
                        "bin_start": 5137.4,
                        "bin_end": 7701.099999999999,
                        "count": 0
                      },
                      {
                        "bin_start": 7701.099999999999,
                        "bin_end": 10264.8,
                        "count": 0
                      },
                      {
                        "bin_start": 10264.8,
                        "bin_end": 12828.5,
                        "count": 0
                      },
                      {
                        "bin_start": 12828.5,
                        "bin_end": 15392.199999999999,
                        "count": 1
                      },
                      {
                        "bin_start": 15392.199999999999,
                        "bin_end": 17955.899999999998,
                        "count": 0
                      },
                      {
                        "bin_start": 17955.899999999998,
                        "bin_end": 20519.6,
                        "count": 0
                      },
                      {
                        "bin_start": 20519.6,
                        "bin_end": 23083.3,
                        "count": 0
                      },
                      {
                        "bin_start": 23083.3,
                        "bin_end": 25647,
                        "count": 1
                      }
                    ]
                  }
                },
                {
                  "name": "transmission",
                  "dtype": "int64",
                  "stats": {
                    "unique_count": 3,
                    "nan_count": 0,
                    "min": "10",
                    "max": "25647",
                    "histogram": [
                      {
                        "bin_start": 10,
                        "bin_end": 2573.7,
                        "count": 1
                      },
                      {
                        "bin_start": 2573.7,
                        "bin_end": 5137.4,
                        "count": 0
                      },
                      {
                        "bin_start": 5137.4,
                        "bin_end": 7701.099999999999,
                        "count": 0
                      },
                      {
                        "bin_start": 7701.099999999999,
                        "bin_end": 10264.8,
                        "count": 0
                      },
                      {
                        "bin_start": 10264.8,
                        "bin_end": 12828.5,
                        "count": 0
                      },
                      {
                        "bin_start": 12828.5,
                        "bin_end": 15392.199999999999,
                        "count": 1
                      },
                      {
                        "bin_start": 15392.199999999999,
                        "bin_end": 17955.899999999998,
                        "count": 0
                      },
                      {
                        "bin_start": 17955.899999999998,
                        "bin_end": 20519.6,
                        "count": 0
                      },
                      {
                        "bin_start": 20519.6,
                        "bin_end": 23083.3,
                        "count": 0
                      },
                      {
                        "bin_start": 23083.3,
                        "bin_end": 25647,
                        "count": 1
                      }
                    ]
                  }
                },
                {
                  "name": "color",
                  "dtype": "int64",
                  "stats": {
                    "unique_count": 3,
                    "nan_count": 0,
                    "min": "10",
                    "max": "25647",
                    "histogram": [
                      {
                        "bin_start": 10,
                        "bin_end": 2573.7,
                        "count": 1
                      },
                      {
                        "bin_start": 2573.7,
                        "bin_end": 5137.4,
                        "count": 0
                      },
                      {
                        "bin_start": 5137.4,
                        "bin_end": 7701.099999999999,
                        "count": 0
                      },
                      {
                        "bin_start": 7701.099999999999,
                        "bin_end": 10264.8,
                        "count": 0
                      },
                      {
                        "bin_start": 10264.8,
                        "bin_end": 12828.5,
                        "count": 0
                      },
                      {
                        "bin_start": 12828.5,
                        "bin_end": 15392.199999999999,
                        "count": 1
                      },
                      {
                        "bin_start": 15392.199999999999,
                        "bin_end": 17955.899999999998,
                        "count": 0
                      },
                      {
                        "bin_start": 17955.899999999998,
                        "bin_end": 20519.6,
                        "count": 0
                      },
                      {
                        "bin_start": 20519.6,
                        "bin_end": 23083.3,
                        "count": 0
                      },
                      {
                        "bin_start": 23083.3,
                        "bin_end": 25647,
                        "count": 1
                      }
                    ]
                  }
                },
                {
                  "name": "odometer_value",
                  "dtype": "int64",
                  "stats": {
                    "unique_count": 3,
                    "nan_count": 0,
                    "min": "10",
                    "max": "25647",
                    "histogram": [
                      {
                        "bin_start": 10,
                        "bin_end": 2573.7,
                        "count": 1
                      },
                      {
                        "bin_start": 2573.7,
                        "bin_end": 5137.4,
                        "count": 0
                      },
                      {
                        "bin_start": 5137.4,
                        "bin_end": 7701.099999999999,
                        "count": 0
                      },
                      {
                        "bin_start": 7701.099999999999,
                        "bin_end": 10264.8,
                        "count": 0
                      },
                      {
                        "bin_start": 10264.8,
                        "bin_end": 12828.5,
                        "count": 0
                      },
                      {
                        "bin_start": 12828.5,
                        "bin_end": 15392.199999999999,
                        "count": 1
                      },
                      {
                        "bin_start": 15392.199999999999,
                        "bin_end": 17955.899999999998,
                        "count": 0
                      },
                      {
                        "bin_start": 17955.899999999998,
                        "bin_end": 20519.6,
                        "count": 0
                      },
                      {
                        "bin_start": 20519.6,
                        "bin_end": 23083.3,
                        "count": 0
                      },
                      {
                        "bin_start": 23083.3,
                        "bin_end": 25647,
                        "count": 1
                      }
                    ]
                  }
                },
                {
                  "name": "year_produced",
                  "dtype": "int64",
                  "stats": {
                    "unique_count": 3,
                    "nan_count": 0,
                    "min": "10",
                    "max": "25647",
                    "histogram": [
                      {
                        "bin_start": 10,
                        "bin_end": 2573.7,
                        "count": 1
                      },
                      {
                        "bin_start": 2573.7,
                        "bin_end": 5137.4,
                        "count": 0
                      },
                      {
                        "bin_start": 5137.4,
                        "bin_end": 7701.099999999999,
                        "count": 0
                      },
                      {
                        "bin_start": 7701.099999999999,
                        "bin_end": 10264.8,
                        "count": 0
                      },
                      {
                        "bin_start": 10264.8,
                        "bin_end": 12828.5,
                        "count": 0
                      },
                      {
                        "bin_start": 12828.5,
                        "bin_end": 15392.199999999999,
                        "count": 1
                      },
                      {
                        "bin_start": 15392.199999999999,
                        "bin_end": 17955.899999999998,
                        "count": 0
                      },
                      {
                        "bin_start": 17955.899999999998,
                        "bin_end": 20519.6,
                        "count": 0
                      },
                      {
                        "bin_start": 20519.6,
                        "bin_end": 23083.3,
                        "count": 0
                      },
                      {
                        "bin_start": 23083.3,
                        "bin_end": 25647,
                        "count": 1
                      }
                    ]
                  }
                },
                {
                  "name": "engine_fuel",
                  "dtype": "int64",
                  "stats": {
                    "unique_count": 3,
                    "nan_count": 0,
                    "min": "10",
                    "max": "25647",
                    "histogram": [
                      {
                        "bin_start": 10,
                        "bin_end": 2573.7,
                        "count": 1
                      },
                      {
                        "bin_start": 2573.7,
                        "bin_end": 5137.4,
                        "count": 0
                      },
                      {
                        "bin_start": 5137.4,
                        "bin_end": 7701.099999999999,
                        "count": 0
                      },
                      {
                        "bin_start": 7701.099999999999,
                        "bin_end": 10264.8,
                        "count": 0
                      },
                      {
                        "bin_start": 10264.8,
                        "bin_end": 12828.5,
                        "count": 0
                      },
                      {
                        "bin_start": 12828.5,
                        "bin_end": 15392.199999999999,
                        "count": 1
                      },
                      {
                        "bin_start": 15392.199999999999,
                        "bin_end": 17955.899999999998,
                        "count": 0
                      },
                      {
                        "bin_start": 17955.899999999998,
                        "bin_end": 20519.6,
                        "count": 0
                      },
                      {
                        "bin_start": 20519.6,
                        "bin_end": 23083.3,
                        "count": 0
                      },
                      {
                        "bin_start": 23083.3,
                        "bin_end": 25647,
                        "count": 1
                      }
                    ]
                  }
                },
                {
                  "name": "engine_has_gas",
                  "dtype": "int64",
                  "stats": {
                    "unique_count": 3,
                    "nan_count": 0,
                    "min": "10",
                    "max": "25647",
                    "histogram": [
                      {
                        "bin_start": 10,
                        "bin_end": 2573.7,
                        "count": 1
                      },
                      {
                        "bin_start": 2573.7,
                        "bin_end": 5137.4,
                        "count": 0
                      },
                      {
                        "bin_start": 5137.4,
                        "bin_end": 7701.099999999999,
                        "count": 0
                      },
                      {
                        "bin_start": 7701.099999999999,
                        "bin_end": 10264.8,
                        "count": 0
                      },
                      {
                        "bin_start": 10264.8,
                        "bin_end": 12828.5,
                        "count": 0
                      },
                      {
                        "bin_start": 12828.5,
                        "bin_end": 15392.199999999999,
                        "count": 1
                      },
                      {
                        "bin_start": 15392.199999999999,
                        "bin_end": 17955.899999999998,
                        "count": 0
                      },
                      {
                        "bin_start": 17955.899999999998,
                        "bin_end": 20519.6,
                        "count": 0
                      },
                      {
                        "bin_start": 20519.6,
                        "bin_end": 23083.3,
                        "count": 0
                      },
                      {
                        "bin_start": 23083.3,
                        "bin_end": 25647,
                        "count": 1
                      }
                    ]
                  }
                },
                {
                  "name": "engine_capacity",
                  "dtype": "int64",
                  "stats": {
                    "unique_count": 3,
                    "nan_count": 0,
                    "min": "0",
                    "max": "25647",
                    "histogram": [
                      {
                        "bin_start": 0,
                        "bin_end": 2564.7,
                        "count": 1
                      },
                      {
                        "bin_start": 2564.7,
                        "bin_end": 5129.4,
                        "count": 0
                      },
                      {
                        "bin_start": 5129.4,
                        "bin_end": 7694.099999999999,
                        "count": 0
                      },
                      {
                        "bin_start": 7694.099999999999,
                        "bin_end": 10258.8,
                        "count": 0
                      },
                      {
                        "bin_start": 10258.8,
                        "bin_end": 12823.5,
                        "count": 0
                      },
                      {
                        "bin_start": 12823.5,
                        "bin_end": 15388.199999999999,
                        "count": 1
                      },
                      {
                        "bin_start": 15388.199999999999,
                        "bin_end": 17952.899999999998,
                        "count": 0
                      },
                      {
                        "bin_start": 17952.899999999998,
                        "bin_end": 20517.6,
                        "count": 0
                      },
                      {
                        "bin_start": 20517.6,
                        "bin_end": 23082.3,
                        "count": 0
                      },
                      {
                        "bin_start": 23082.3,
                        "bin_end": 25647,
                        "count": 1
                      }
                    ]
                  }
                },
                {
                  "name": "body_type",
                  "dtype": "int64",
                  "stats": {
                    "unique_count": 3,
                    "nan_count": 0,
                    "min": "10",
                    "max": "25647",
                    "histogram": [
                      {
                        "bin_start": 10,
                        "bin_end": 2573.7,
                        "count": 1
                      },
                      {
                        "bin_start": 2573.7,
                        "bin_end": 5137.4,
                        "count": 0
                      },
                      {
                        "bin_start": 5137.4,
                        "bin_end": 7701.099999999999,
                        "count": 0
                      },
                      {
                        "bin_start": 7701.099999999999,
                        "bin_end": 10264.8,
                        "count": 0
                      },
                      {
                        "bin_start": 10264.8,
                        "bin_end": 12828.5,
                        "count": 0
                      },
                      {
                        "bin_start": 12828.5,
                        "bin_end": 15392.199999999999,
                        "count": 1
                      },
                      {
                        "bin_start": 15392.199999999999,
                        "bin_end": 17955.899999999998,
                        "count": 0
                      },
                      {
                        "bin_start": 17955.899999999998,
                        "bin_end": 20519.6,
                        "count": 0
                      },
                      {
                        "bin_start": 20519.6,
                        "bin_end": 23083.3,
                        "count": 0
                      },
                      {
                        "bin_start": 23083.3,
                        "bin_end": 25647,
                        "count": 1
                      }
                    ]
                  }
                },
                {
                  "name": "has_warranty",
                  "dtype": "int64",
                  "stats": {
                    "unique_count": 3,
                    "nan_count": 0,
                    "min": "10",
                    "max": "25647",
                    "histogram": [
                      {
                        "bin_start": 10,
                        "bin_end": 2573.7,
                        "count": 1
                      },
                      {
                        "bin_start": 2573.7,
                        "bin_end": 5137.4,
                        "count": 0
                      },
                      {
                        "bin_start": 5137.4,
                        "bin_end": 7701.099999999999,
                        "count": 0
                      },
                      {
                        "bin_start": 7701.099999999999,
                        "bin_end": 10264.8,
                        "count": 0
                      },
                      {
                        "bin_start": 10264.8,
                        "bin_end": 12828.5,
                        "count": 0
                      },
                      {
                        "bin_start": 12828.5,
                        "bin_end": 15392.199999999999,
                        "count": 1
                      },
                      {
                        "bin_start": 15392.199999999999,
                        "bin_end": 17955.899999999998,
                        "count": 0
                      },
                      {
                        "bin_start": 17955.899999999998,
                        "bin_end": 20519.6,
                        "count": 0
                      },
                      {
                        "bin_start": 20519.6,
                        "bin_end": 23083.3,
                        "count": 0
                      },
                      {
                        "bin_start": 23083.3,
                        "bin_end": 25647,
                        "count": 1
                      }
                    ]
                  }
                },
                {
                  "name": "state",
                  "dtype": "int64",
                  "stats": {
                    "unique_count": 3,
                    "nan_count": 0,
                    "min": "10",
                    "max": "25647",
                    "histogram": [
                      {
                        "bin_start": 10,
                        "bin_end": 2573.7,
                        "count": 1
                      },
                      {
                        "bin_start": 2573.7,
                        "bin_end": 5137.4,
                        "count": 0
                      },
                      {
                        "bin_start": 5137.4,
                        "bin_end": 7701.099999999999,
                        "count": 0
                      },
                      {
                        "bin_start": 7701.099999999999,
                        "bin_end": 10264.8,
                        "count": 0
                      },
                      {
                        "bin_start": 10264.8,
                        "bin_end": 12828.5,
                        "count": 0
                      },
                      {
                        "bin_start": 12828.5,
                        "bin_end": 15392.199999999999,
                        "count": 1
                      },
                      {
                        "bin_start": 15392.199999999999,
                        "bin_end": 17955.899999999998,
                        "count": 0
                      },
                      {
                        "bin_start": 17955.899999999998,
                        "bin_end": 20519.6,
                        "count": 0
                      },
                      {
                        "bin_start": 20519.6,
                        "bin_end": 23083.3,
                        "count": 0
                      },
                      {
                        "bin_start": 23083.3,
                        "bin_end": 25647,
                        "count": 1
                      }
                    ]
                  }
                },
                {
                  "name": "drivetrain",
                  "dtype": "int64",
                  "stats": {
                    "unique_count": 3,
                    "nan_count": 0,
                    "min": "10",
                    "max": "25647",
                    "histogram": [
                      {
                        "bin_start": 10,
                        "bin_end": 2573.7,
                        "count": 1
                      },
                      {
                        "bin_start": 2573.7,
                        "bin_end": 5137.4,
                        "count": 0
                      },
                      {
                        "bin_start": 5137.4,
                        "bin_end": 7701.099999999999,
                        "count": 0
                      },
                      {
                        "bin_start": 7701.099999999999,
                        "bin_end": 10264.8,
                        "count": 0
                      },
                      {
                        "bin_start": 10264.8,
                        "bin_end": 12828.5,
                        "count": 0
                      },
                      {
                        "bin_start": 12828.5,
                        "bin_end": 15392.199999999999,
                        "count": 1
                      },
                      {
                        "bin_start": 15392.199999999999,
                        "bin_end": 17955.899999999998,
                        "count": 0
                      },
                      {
                        "bin_start": 17955.899999999998,
                        "bin_end": 20519.6,
                        "count": 0
                      },
                      {
                        "bin_start": 20519.6,
                        "bin_end": 23083.3,
                        "count": 0
                      },
                      {
                        "bin_start": 23083.3,
                        "bin_end": 25647,
                        "count": 1
                      }
                    ]
                  }
                },
                {
                  "name": "price_usd",
                  "dtype": "int64",
                  "stats": {
                    "unique_count": 3,
                    "nan_count": 0,
                    "min": "10",
                    "max": "25647",
                    "histogram": [
                      {
                        "bin_start": 10,
                        "bin_end": 2573.7,
                        "count": 1
                      },
                      {
                        "bin_start": 2573.7,
                        "bin_end": 5137.4,
                        "count": 0
                      },
                      {
                        "bin_start": 5137.4,
                        "bin_end": 7701.099999999999,
                        "count": 0
                      },
                      {
                        "bin_start": 7701.099999999999,
                        "bin_end": 10264.8,
                        "count": 0
                      },
                      {
                        "bin_start": 10264.8,
                        "bin_end": 12828.5,
                        "count": 0
                      },
                      {
                        "bin_start": 12828.5,
                        "bin_end": 15392.199999999999,
                        "count": 1
                      },
                      {
                        "bin_start": 15392.199999999999,
                        "bin_end": 17955.899999999998,
                        "count": 0
                      },
                      {
                        "bin_start": 17955.899999999998,
                        "bin_end": 20519.6,
                        "count": 0
                      },
                      {
                        "bin_start": 20519.6,
                        "bin_end": 23083.3,
                        "count": 0
                      },
                      {
                        "bin_start": 23083.3,
                        "bin_end": 25647,
                        "count": 1
                      }
                    ]
                  }
                },
                {
                  "name": "is_exchangeable",
                  "dtype": "int64",
                  "stats": {
                    "unique_count": 3,
                    "nan_count": 0,
                    "min": "10",
                    "max": "25647",
                    "histogram": [
                      {
                        "bin_start": 10,
                        "bin_end": 2573.7,
                        "count": 1
                      },
                      {
                        "bin_start": 2573.7,
                        "bin_end": 5137.4,
                        "count": 0
                      },
                      {
                        "bin_start": 5137.4,
                        "bin_end": 7701.099999999999,
                        "count": 0
                      },
                      {
                        "bin_start": 7701.099999999999,
                        "bin_end": 10264.8,
                        "count": 0
                      },
                      {
                        "bin_start": 10264.8,
                        "bin_end": 12828.5,
                        "count": 0
                      },
                      {
                        "bin_start": 12828.5,
                        "bin_end": 15392.199999999999,
                        "count": 1
                      },
                      {
                        "bin_start": 15392.199999999999,
                        "bin_end": 17955.899999999998,
                        "count": 0
                      },
                      {
                        "bin_start": 17955.899999999998,
                        "bin_end": 20519.6,
                        "count": 0
                      },
                      {
                        "bin_start": 20519.6,
                        "bin_end": 23083.3,
                        "count": 0
                      },
                      {
                        "bin_start": 23083.3,
                        "bin_end": 25647,
                        "count": 1
                      }
                    ]
                  }
                },
                {
                  "name": "location_region",
                  "dtype": "int64",
                  "stats": {
                    "unique_count": 3,
                    "nan_count": 0,
                    "min": "10",
                    "max": "25647",
                    "histogram": [
                      {
                        "bin_start": 10,
                        "bin_end": 2573.7,
                        "count": 1
                      },
                      {
                        "bin_start": 2573.7,
                        "bin_end": 5137.4,
                        "count": 0
                      },
                      {
                        "bin_start": 5137.4,
                        "bin_end": 7701.099999999999,
                        "count": 0
                      },
                      {
                        "bin_start": 7701.099999999999,
                        "bin_end": 10264.8,
                        "count": 0
                      },
                      {
                        "bin_start": 10264.8,
                        "bin_end": 12828.5,
                        "count": 0
                      },
                      {
                        "bin_start": 12828.5,
                        "bin_end": 15392.199999999999,
                        "count": 1
                      },
                      {
                        "bin_start": 15392.199999999999,
                        "bin_end": 17955.899999999998,
                        "count": 0
                      },
                      {
                        "bin_start": 17955.899999999998,
                        "bin_end": 20519.6,
                        "count": 0
                      },
                      {
                        "bin_start": 20519.6,
                        "bin_end": 23083.3,
                        "count": 0
                      },
                      {
                        "bin_start": 23083.3,
                        "bin_end": 25647,
                        "count": 1
                      }
                    ]
                  }
                },
                {
                  "name": "number_of_photos",
                  "dtype": "int64",
                  "stats": {
                    "unique_count": 3,
                    "nan_count": 0,
                    "min": "10",
                    "max": "25647",
                    "histogram": [
                      {
                        "bin_start": 10,
                        "bin_end": 2573.7,
                        "count": 1
                      },
                      {
                        "bin_start": 2573.7,
                        "bin_end": 5137.4,
                        "count": 0
                      },
                      {
                        "bin_start": 5137.4,
                        "bin_end": 7701.099999999999,
                        "count": 0
                      },
                      {
                        "bin_start": 7701.099999999999,
                        "bin_end": 10264.8,
                        "count": 0
                      },
                      {
                        "bin_start": 10264.8,
                        "bin_end": 12828.5,
                        "count": 0
                      },
                      {
                        "bin_start": 12828.5,
                        "bin_end": 15392.199999999999,
                        "count": 1
                      },
                      {
                        "bin_start": 15392.199999999999,
                        "bin_end": 17955.899999999998,
                        "count": 0
                      },
                      {
                        "bin_start": 17955.899999999998,
                        "bin_end": 20519.6,
                        "count": 0
                      },
                      {
                        "bin_start": 20519.6,
                        "bin_end": 23083.3,
                        "count": 0
                      },
                      {
                        "bin_start": 23083.3,
                        "bin_end": 25647,
                        "count": 1
                      }
                    ]
                  }
                },
                {
                  "name": "up_counter",
                  "dtype": "int64",
                  "stats": {
                    "unique_count": 3,
                    "nan_count": 0,
                    "min": "10",
                    "max": "25647",
                    "histogram": [
                      {
                        "bin_start": 10,
                        "bin_end": 2573.7,
                        "count": 1
                      },
                      {
                        "bin_start": 2573.7,
                        "bin_end": 5137.4,
                        "count": 0
                      },
                      {
                        "bin_start": 5137.4,
                        "bin_end": 7701.099999999999,
                        "count": 0
                      },
                      {
                        "bin_start": 7701.099999999999,
                        "bin_end": 10264.8,
                        "count": 0
                      },
                      {
                        "bin_start": 10264.8,
                        "bin_end": 12828.5,
                        "count": 0
                      },
                      {
                        "bin_start": 12828.5,
                        "bin_end": 15392.199999999999,
                        "count": 1
                      },
                      {
                        "bin_start": 15392.199999999999,
                        "bin_end": 17955.899999999998,
                        "count": 0
                      },
                      {
                        "bin_start": 17955.899999999998,
                        "bin_end": 20519.6,
                        "count": 0
                      },
                      {
                        "bin_start": 20519.6,
                        "bin_end": 23083.3,
                        "count": 0
                      },
                      {
                        "bin_start": 23083.3,
                        "bin_end": 25647,
                        "count": 1
                      }
                    ]
                  }
                },
                {
                  "name": "feature_0",
                  "dtype": "int64",
                  "stats": {
                    "unique_count": 3,
                    "nan_count": 0,
                    "min": "10",
                    "max": "25647",
                    "histogram": [
                      {
                        "bin_start": 10,
                        "bin_end": 2573.7,
                        "count": 1
                      },
                      {
                        "bin_start": 2573.7,
                        "bin_end": 5137.4,
                        "count": 0
                      },
                      {
                        "bin_start": 5137.4,
                        "bin_end": 7701.099999999999,
                        "count": 0
                      },
                      {
                        "bin_start": 7701.099999999999,
                        "bin_end": 10264.8,
                        "count": 0
                      },
                      {
                        "bin_start": 10264.8,
                        "bin_end": 12828.5,
                        "count": 0
                      },
                      {
                        "bin_start": 12828.5,
                        "bin_end": 15392.199999999999,
                        "count": 1
                      },
                      {
                        "bin_start": 15392.199999999999,
                        "bin_end": 17955.899999999998,
                        "count": 0
                      },
                      {
                        "bin_start": 17955.899999999998,
                        "bin_end": 20519.6,
                        "count": 0
                      },
                      {
                        "bin_start": 20519.6,
                        "bin_end": 23083.3,
                        "count": 0
                      },
                      {
                        "bin_start": 23083.3,
                        "bin_end": 25647,
                        "count": 1
                      }
                    ]
                  }
                },
                {
                  "name": "feature_1",
                  "dtype": "int64",
                  "stats": {
                    "unique_count": 3,
                    "nan_count": 0,
                    "min": "10",
                    "max": "25647",
                    "histogram": [
                      {
                        "bin_start": 10,
                        "bin_end": 2573.7,
                        "count": 1
                      },
                      {
                        "bin_start": 2573.7,
                        "bin_end": 5137.4,
                        "count": 0
                      },
                      {
                        "bin_start": 5137.4,
                        "bin_end": 7701.099999999999,
                        "count": 0
                      },
                      {
                        "bin_start": 7701.099999999999,
                        "bin_end": 10264.8,
                        "count": 0
                      },
                      {
                        "bin_start": 10264.8,
                        "bin_end": 12828.5,
                        "count": 0
                      },
                      {
                        "bin_start": 12828.5,
                        "bin_end": 15392.199999999999,
                        "count": 1
                      },
                      {
                        "bin_start": 15392.199999999999,
                        "bin_end": 17955.899999999998,
                        "count": 0
                      },
                      {
                        "bin_start": 17955.899999999998,
                        "bin_end": 20519.6,
                        "count": 0
                      },
                      {
                        "bin_start": 20519.6,
                        "bin_end": 23083.3,
                        "count": 0
                      },
                      {
                        "bin_start": 23083.3,
                        "bin_end": 25647,
                        "count": 1
                      }
                    ]
                  }
                },
                {
                  "name": "feature_2",
                  "dtype": "int64",
                  "stats": {
                    "unique_count": 3,
                    "nan_count": 0,
                    "min": "10",
                    "max": "25647",
                    "histogram": [
                      {
                        "bin_start": 10,
                        "bin_end": 2573.7,
                        "count": 1
                      },
                      {
                        "bin_start": 2573.7,
                        "bin_end": 5137.4,
                        "count": 0
                      },
                      {
                        "bin_start": 5137.4,
                        "bin_end": 7701.099999999999,
                        "count": 0
                      },
                      {
                        "bin_start": 7701.099999999999,
                        "bin_end": 10264.8,
                        "count": 0
                      },
                      {
                        "bin_start": 10264.8,
                        "bin_end": 12828.5,
                        "count": 0
                      },
                      {
                        "bin_start": 12828.5,
                        "bin_end": 15392.199999999999,
                        "count": 1
                      },
                      {
                        "bin_start": 15392.199999999999,
                        "bin_end": 17955.899999999998,
                        "count": 0
                      },
                      {
                        "bin_start": 17955.899999999998,
                        "bin_end": 20519.6,
                        "count": 0
                      },
                      {
                        "bin_start": 20519.6,
                        "bin_end": 23083.3,
                        "count": 0
                      },
                      {
                        "bin_start": 23083.3,
                        "bin_end": 25647,
                        "count": 1
                      }
                    ]
                  }
                },
                {
                  "name": "feature_3",
                  "dtype": "int64",
                  "stats": {
                    "unique_count": 3,
                    "nan_count": 0,
                    "min": "10",
                    "max": "25647",
                    "histogram": [
                      {
                        "bin_start": 10,
                        "bin_end": 2573.7,
                        "count": 1
                      },
                      {
                        "bin_start": 2573.7,
                        "bin_end": 5137.4,
                        "count": 0
                      },
                      {
                        "bin_start": 5137.4,
                        "bin_end": 7701.099999999999,
                        "count": 0
                      },
                      {
                        "bin_start": 7701.099999999999,
                        "bin_end": 10264.8,
                        "count": 0
                      },
                      {
                        "bin_start": 10264.8,
                        "bin_end": 12828.5,
                        "count": 0
                      },
                      {
                        "bin_start": 12828.5,
                        "bin_end": 15392.199999999999,
                        "count": 1
                      },
                      {
                        "bin_start": 15392.199999999999,
                        "bin_end": 17955.899999999998,
                        "count": 0
                      },
                      {
                        "bin_start": 17955.899999999998,
                        "bin_end": 20519.6,
                        "count": 0
                      },
                      {
                        "bin_start": 20519.6,
                        "bin_end": 23083.3,
                        "count": 0
                      },
                      {
                        "bin_start": 23083.3,
                        "bin_end": 25647,
                        "count": 1
                      }
                    ]
                  }
                },
                {
                  "name": "feature_4",
                  "dtype": "int64",
                  "stats": {
                    "unique_count": 3,
                    "nan_count": 0,
                    "min": "10",
                    "max": "25647",
                    "histogram": [
                      {
                        "bin_start": 10,
                        "bin_end": 2573.7,
                        "count": 1
                      },
                      {
                        "bin_start": 2573.7,
                        "bin_end": 5137.4,
                        "count": 0
                      },
                      {
                        "bin_start": 5137.4,
                        "bin_end": 7701.099999999999,
                        "count": 0
                      },
                      {
                        "bin_start": 7701.099999999999,
                        "bin_end": 10264.8,
                        "count": 0
                      },
                      {
                        "bin_start": 10264.8,
                        "bin_end": 12828.5,
                        "count": 0
                      },
                      {
                        "bin_start": 12828.5,
                        "bin_end": 15392.199999999999,
                        "count": 1
                      },
                      {
                        "bin_start": 15392.199999999999,
                        "bin_end": 17955.899999999998,
                        "count": 0
                      },
                      {
                        "bin_start": 17955.899999999998,
                        "bin_end": 20519.6,
                        "count": 0
                      },
                      {
                        "bin_start": 20519.6,
                        "bin_end": 23083.3,
                        "count": 0
                      },
                      {
                        "bin_start": 23083.3,
                        "bin_end": 25647,
                        "count": 1
                      }
                    ]
                  }
                },
                {
                  "name": "feature_5",
                  "dtype": "int64",
                  "stats": {
                    "unique_count": 3,
                    "nan_count": 0,
                    "min": "10",
                    "max": "25647",
                    "histogram": [
                      {
                        "bin_start": 10,
                        "bin_end": 2573.7,
                        "count": 1
                      },
                      {
                        "bin_start": 2573.7,
                        "bin_end": 5137.4,
                        "count": 0
                      },
                      {
                        "bin_start": 5137.4,
                        "bin_end": 7701.099999999999,
                        "count": 0
                      },
                      {
                        "bin_start": 7701.099999999999,
                        "bin_end": 10264.8,
                        "count": 0
                      },
                      {
                        "bin_start": 10264.8,
                        "bin_end": 12828.5,
                        "count": 0
                      },
                      {
                        "bin_start": 12828.5,
                        "bin_end": 15392.199999999999,
                        "count": 1
                      },
                      {
                        "bin_start": 15392.199999999999,
                        "bin_end": 17955.899999999998,
                        "count": 0
                      },
                      {
                        "bin_start": 17955.899999999998,
                        "bin_end": 20519.6,
                        "count": 0
                      },
                      {
                        "bin_start": 20519.6,
                        "bin_end": 23083.3,
                        "count": 0
                      },
                      {
                        "bin_start": 23083.3,
                        "bin_end": 25647,
                        "count": 1
                      }
                    ]
                  }
                },
                {
                  "name": "feature_6",
                  "dtype": "int64",
                  "stats": {
                    "unique_count": 3,
                    "nan_count": 0,
                    "min": "10",
                    "max": "25647",
                    "histogram": [
                      {
                        "bin_start": 10,
                        "bin_end": 2573.7,
                        "count": 1
                      },
                      {
                        "bin_start": 2573.7,
                        "bin_end": 5137.4,
                        "count": 0
                      },
                      {
                        "bin_start": 5137.4,
                        "bin_end": 7701.099999999999,
                        "count": 0
                      },
                      {
                        "bin_start": 7701.099999999999,
                        "bin_end": 10264.8,
                        "count": 0
                      },
                      {
                        "bin_start": 10264.8,
                        "bin_end": 12828.5,
                        "count": 0
                      },
                      {
                        "bin_start": 12828.5,
                        "bin_end": 15392.199999999999,
                        "count": 1
                      },
                      {
                        "bin_start": 15392.199999999999,
                        "bin_end": 17955.899999999998,
                        "count": 0
                      },
                      {
                        "bin_start": 17955.899999999998,
                        "bin_end": 20519.6,
                        "count": 0
                      },
                      {
                        "bin_start": 20519.6,
                        "bin_end": 23083.3,
                        "count": 0
                      },
                      {
                        "bin_start": 23083.3,
                        "bin_end": 25647,
                        "count": 1
                      }
                    ]
                  }
                },
                {
                  "name": "feature_7",
                  "dtype": "int64",
                  "stats": {
                    "unique_count": 3,
                    "nan_count": 0,
                    "min": "10",
                    "max": "25647",
                    "histogram": [
                      {
                        "bin_start": 10,
                        "bin_end": 2573.7,
                        "count": 1
                      },
                      {
                        "bin_start": 2573.7,
                        "bin_end": 5137.4,
                        "count": 0
                      },
                      {
                        "bin_start": 5137.4,
                        "bin_end": 7701.099999999999,
                        "count": 0
                      },
                      {
                        "bin_start": 7701.099999999999,
                        "bin_end": 10264.8,
                        "count": 0
                      },
                      {
                        "bin_start": 10264.8,
                        "bin_end": 12828.5,
                        "count": 0
                      },
                      {
                        "bin_start": 12828.5,
                        "bin_end": 15392.199999999999,
                        "count": 1
                      },
                      {
                        "bin_start": 15392.199999999999,
                        "bin_end": 17955.899999999998,
                        "count": 0
                      },
                      {
                        "bin_start": 17955.899999999998,
                        "bin_end": 20519.6,
                        "count": 0
                      },
                      {
                        "bin_start": 20519.6,
                        "bin_end": 23083.3,
                        "count": 0
                      },
                      {
                        "bin_start": 23083.3,
                        "bin_end": 25647,
                        "count": 1
                      }
                    ]
                  }
                },
                {
                  "name": "feature_8",
                  "dtype": "int64",
                  "stats": {
                    "unique_count": 3,
                    "nan_count": 0,
                    "min": "10",
                    "max": "25647",
                    "histogram": [
                      {
                        "bin_start": 10,
                        "bin_end": 2573.7,
                        "count": 1
                      },
                      {
                        "bin_start": 2573.7,
                        "bin_end": 5137.4,
                        "count": 0
                      },
                      {
                        "bin_start": 5137.4,
                        "bin_end": 7701.099999999999,
                        "count": 0
                      },
                      {
                        "bin_start": 7701.099999999999,
                        "bin_end": 10264.8,
                        "count": 0
                      },
                      {
                        "bin_start": 10264.8,
                        "bin_end": 12828.5,
                        "count": 0
                      },
                      {
                        "bin_start": 12828.5,
                        "bin_end": 15392.199999999999,
                        "count": 1
                      },
                      {
                        "bin_start": 15392.199999999999,
                        "bin_end": 17955.899999999998,
                        "count": 0
                      },
                      {
                        "bin_start": 17955.899999999998,
                        "bin_end": 20519.6,
                        "count": 0
                      },
                      {
                        "bin_start": 20519.6,
                        "bin_end": 23083.3,
                        "count": 0
                      },
                      {
                        "bin_start": 23083.3,
                        "bin_end": 25647,
                        "count": 1
                      }
                    ]
                  }
                },
                {
                  "name": "feature_9",
                  "dtype": "int64",
                  "stats": {
                    "unique_count": 3,
                    "nan_count": 0,
                    "min": "10",
                    "max": "25647",
                    "histogram": [
                      {
                        "bin_start": 10,
                        "bin_end": 2573.7,
                        "count": 1
                      },
                      {
                        "bin_start": 2573.7,
                        "bin_end": 5137.4,
                        "count": 0
                      },
                      {
                        "bin_start": 5137.4,
                        "bin_end": 7701.099999999999,
                        "count": 0
                      },
                      {
                        "bin_start": 7701.099999999999,
                        "bin_end": 10264.8,
                        "count": 0
                      },
                      {
                        "bin_start": 10264.8,
                        "bin_end": 12828.5,
                        "count": 0
                      },
                      {
                        "bin_start": 12828.5,
                        "bin_end": 15392.199999999999,
                        "count": 1
                      },
                      {
                        "bin_start": 15392.199999999999,
                        "bin_end": 17955.899999999998,
                        "count": 0
                      },
                      {
                        "bin_start": 17955.899999999998,
                        "bin_end": 20519.6,
                        "count": 0
                      },
                      {
                        "bin_start": 20519.6,
                        "bin_end": 23083.3,
                        "count": 0
                      },
                      {
                        "bin_start": 23083.3,
                        "bin_end": 25647,
                        "count": 1
                      }
                    ]
                  }
                },
                {
                  "name": "duration_listed",
                  "dtype": "int64",
                  "stats": {
                    "unique_count": 3,
                    "nan_count": 0,
                    "min": "10",
                    "max": "25647",
                    "histogram": [
                      {
                        "bin_start": 10,
                        "bin_end": 2573.7,
                        "count": 1
                      },
                      {
                        "bin_start": 2573.7,
                        "bin_end": 5137.4,
                        "count": 0
                      },
                      {
                        "bin_start": 5137.4,
                        "bin_end": 7701.099999999999,
                        "count": 0
                      },
                      {
                        "bin_start": 7701.099999999999,
                        "bin_end": 10264.8,
                        "count": 0
                      },
                      {
                        "bin_start": 10264.8,
                        "bin_end": 12828.5,
                        "count": 0
                      },
                      {
                        "bin_start": 12828.5,
                        "bin_end": 15392.199999999999,
                        "count": 1
                      },
                      {
                        "bin_start": 15392.199999999999,
                        "bin_end": 17955.899999999998,
                        "count": 0
                      },
                      {
                        "bin_start": 17955.899999999998,
                        "bin_end": 20519.6,
                        "count": 0
                      },
                      {
                        "bin_start": 20519.6,
                        "bin_end": 23083.3,
                        "count": 0
                      },
                      {
                        "bin_start": 23083.3,
                        "bin_end": 25647,
                        "count": 1
                      }
                    ]
                  }
                },
                {
                  "name": "_deepnote_index_column",
                  "dtype": "object"
                }
              ],
              "rows": [
                {
                  "manufacturer_name": 12874,
                  "model_name": 12874,
                  "transmission": 12874,
                  "color": 12874,
                  "odometer_value": 12874,
                  "year_produced": 12874,
                  "engine_fuel": 12874,
                  "engine_has_gas": 12874,
                  "engine_capacity": 12874,
                  "body_type": 12874,
                  "has_warranty": 12874,
                  "state": 12874,
                  "drivetrain": 12874,
                  "price_usd": 12874,
                  "is_exchangeable": 12874,
                  "location_region": 12874,
                  "number_of_photos": 12874,
                  "up_counter": 12874,
                  "feature_0": 12874,
                  "feature_1": 12874,
                  "feature_2": 12874,
                  "feature_3": 12874,
                  "feature_4": 12874,
                  "feature_5": 12874,
                  "feature_6": 12874,
                  "feature_7": 12874,
                  "feature_8": 12874,
                  "feature_9": 12874,
                  "duration_listed": 12874,
                  "_deepnote_index_column": "diesel"
                },
                {
                  "manufacturer_name": 10,
                  "model_name": 10,
                  "transmission": 10,
                  "color": 10,
                  "odometer_value": 10,
                  "year_produced": 10,
                  "engine_fuel": 10,
                  "engine_has_gas": 10,
                  "engine_capacity": 0,
                  "body_type": 10,
                  "has_warranty": 10,
                  "state": 10,
                  "drivetrain": 10,
                  "price_usd": 10,
                  "is_exchangeable": 10,
                  "location_region": 10,
                  "number_of_photos": 10,
                  "up_counter": 10,
                  "feature_0": 10,
                  "feature_1": 10,
                  "feature_2": 10,
                  "feature_3": 10,
                  "feature_4": 10,
                  "feature_5": 10,
                  "feature_6": 10,
                  "feature_7": 10,
                  "feature_8": 10,
                  "feature_9": 10,
                  "duration_listed": 10,
                  "_deepnote_index_column": "electric"
                },
                {
                  "manufacturer_name": 25647,
                  "model_name": 25647,
                  "transmission": 25647,
                  "color": 25647,
                  "odometer_value": 25647,
                  "year_produced": 25647,
                  "engine_fuel": 25647,
                  "engine_has_gas": 25647,
                  "engine_capacity": 25647,
                  "body_type": 25647,
                  "has_warranty": 25647,
                  "state": 25647,
                  "drivetrain": 25647,
                  "price_usd": 25647,
                  "is_exchangeable": 25647,
                  "location_region": 25647,
                  "number_of_photos": 25647,
                  "up_counter": 25647,
                  "feature_0": 25647,
                  "feature_1": 25647,
                  "feature_2": 25647,
                  "feature_3": 25647,
                  "feature_4": 25647,
                  "feature_5": 25647,
                  "feature_6": 25647,
                  "feature_7": 25647,
                  "feature_8": 25647,
                  "feature_9": 25647,
                  "duration_listed": 25647,
                  "_deepnote_index_column": "gasoline"
                }
              ]
            },
            "text/plain": "             manufacturer_name  model_name  transmission  color  \\\nengine_type                                                       \ndiesel                   12874       12874         12874  12874   \nelectric                    10          10            10     10   \ngasoline                 25647       25647         25647  25647   \n\n             odometer_value  year_produced  engine_fuel  engine_has_gas  \\\nengine_type                                                               \ndiesel                12874          12874        12874           12874   \nelectric                 10             10           10              10   \ngasoline              25647          25647        25647           25647   \n\n             engine_capacity  body_type  ...  feature_1  feature_2  feature_3  \\\nengine_type                              ...                                    \ndiesel                 12874      12874  ...      12874      12874      12874   \nelectric                   0         10  ...         10         10         10   \ngasoline               25647      25647  ...      25647      25647      25647   \n\n             feature_4  feature_5  feature_6  feature_7  feature_8  feature_9  \\\nengine_type                                                                     \ndiesel           12874      12874      12874      12874      12874      12874   \nelectric            10         10         10         10         10         10   \ngasoline         25647      25647      25647      25647      25647      25647   \n\n             duration_listed  \nengine_type                   \ndiesel                 12874  \nelectric                  10  \ngasoline               25647  \n\n[3 rows x 29 columns]",
            "text/html": "<div>\n<style scoped>\n    .dataframe tbody tr th:only-of-type {\n        vertical-align: middle;\n    }\n\n    .dataframe tbody tr th {\n        vertical-align: top;\n    }\n\n    .dataframe thead th {\n        text-align: right;\n    }\n</style>\n<table border=\"1\" class=\"dataframe\">\n  <thead>\n    <tr style=\"text-align: right;\">\n      <th></th>\n      <th>manufacturer_name</th>\n      <th>model_name</th>\n      <th>transmission</th>\n      <th>color</th>\n      <th>odometer_value</th>\n      <th>year_produced</th>\n      <th>engine_fuel</th>\n      <th>engine_has_gas</th>\n      <th>engine_capacity</th>\n      <th>body_type</th>\n      <th>...</th>\n      <th>feature_1</th>\n      <th>feature_2</th>\n      <th>feature_3</th>\n      <th>feature_4</th>\n      <th>feature_5</th>\n      <th>feature_6</th>\n      <th>feature_7</th>\n      <th>feature_8</th>\n      <th>feature_9</th>\n      <th>duration_listed</th>\n    </tr>\n    <tr>\n      <th>engine_type</th>\n      <th></th>\n      <th></th>\n      <th></th>\n      <th></th>\n      <th></th>\n      <th></th>\n      <th></th>\n      <th></th>\n      <th></th>\n      <th></th>\n      <th></th>\n      <th></th>\n      <th></th>\n      <th></th>\n      <th></th>\n      <th></th>\n      <th></th>\n      <th></th>\n      <th></th>\n      <th></th>\n      <th></th>\n    </tr>\n  </thead>\n  <tbody>\n    <tr>\n      <th>diesel</th>\n      <td>12874</td>\n      <td>12874</td>\n      <td>12874</td>\n      <td>12874</td>\n      <td>12874</td>\n      <td>12874</td>\n      <td>12874</td>\n      <td>12874</td>\n      <td>12874</td>\n      <td>12874</td>\n      <td>...</td>\n      <td>12874</td>\n      <td>12874</td>\n      <td>12874</td>\n      <td>12874</td>\n      <td>12874</td>\n      <td>12874</td>\n      <td>12874</td>\n      <td>12874</td>\n      <td>12874</td>\n      <td>12874</td>\n    </tr>\n    <tr>\n      <th>electric</th>\n      <td>10</td>\n      <td>10</td>\n      <td>10</td>\n      <td>10</td>\n      <td>10</td>\n      <td>10</td>\n      <td>10</td>\n      <td>10</td>\n      <td>0</td>\n      <td>10</td>\n      <td>...</td>\n      <td>10</td>\n      <td>10</td>\n      <td>10</td>\n      <td>10</td>\n      <td>10</td>\n      <td>10</td>\n      <td>10</td>\n      <td>10</td>\n      <td>10</td>\n      <td>10</td>\n    </tr>\n    <tr>\n      <th>gasoline</th>\n      <td>25647</td>\n      <td>25647</td>\n      <td>25647</td>\n      <td>25647</td>\n      <td>25647</td>\n      <td>25647</td>\n      <td>25647</td>\n      <td>25647</td>\n      <td>25647</td>\n      <td>25647</td>\n      <td>...</td>\n      <td>25647</td>\n      <td>25647</td>\n      <td>25647</td>\n      <td>25647</td>\n      <td>25647</td>\n      <td>25647</td>\n      <td>25647</td>\n      <td>25647</td>\n      <td>25647</td>\n      <td>25647</td>\n    </tr>\n  </tbody>\n</table>\n<p>3 rows × 29 columns</p>\n</div>"
          },
          "metadata": {}
        }
      ],
      "outputs_reference": null,
      "execution_count": 8,
      "block_group": "b168e4b2b5744ed187439a56999272dc"
    },
    {
      "cell_type": "code",
      "source": "Q7_df = df[(df['manufacturer_name'] == 'Audi') & (df['model_name'] == 'Q7')]\nsns.histplot(Q7_df, x='price_usd', hue='year_produced', multiple='stack')",
      "metadata": {
        "source_hash": "a51932a6",
        "execution_start": 1708721124944,
        "execution_millis": 102,
        "deepnote_to_be_reexecuted": false,
        "cell_id": "d2731c5bf8224ff3b51d09037211192b",
        "deepnote_cell_type": "code"
      },
      "outputs": [
        {
          "output_type": "execute_result",
          "execution_count": 9,
          "data": {
            "text/plain": "<AxesSubplot: xlabel='price_usd', ylabel='Count'>"
          },
          "metadata": {}
        },
        {
          "data": {
            "text/plain": "<Figure size 640x480 with 1 Axes>",
            "image/png": "[encoded data removed]"
          },
          "metadata": {
            "image/png": {
              "width": 562,
              "height": 433
            }
          },
          "output_type": "display_data"
        }
      ],
      "outputs_reference": null,
      "execution_count": 9,
      "block_group": "865695773027461a82f8a46f414b4b87"
    },
    {
      "cell_type": "code",
      "source": "black_cars = df[(df['color'] == 'black')  & (df['price_usd'] <= 20000)  & (df['year_produced'] >= 2017)]\nsns.histplot(black_cars, x = 'price_usd', hue = 'year_produced')\n\n\n",
      "metadata": {
        "source_hash": "bf0a2868",
        "execution_start": 1708721316346,
        "execution_millis": 386,
        "deepnote_to_be_reexecuted": false,
        "cell_id": "00ec8306bec64855b9b99ac89978d8ca",
        "deepnote_cell_type": "code"
      },
      "outputs": [
        {
          "output_type": "execute_result",
          "execution_count": 11,
          "data": {
            "text/plain": "<AxesSubplot: xlabel='price_usd', ylabel='Count'>"
          },
          "metadata": {}
        },
        {
          "data": {
            "text/plain": "<Figure size 640x480 with 1 Axes>",
            "image/png": "[encoded data removed]"
          },
          "metadata": {
            "image/png": {
              "width": 562,
              "height": 433
            }
          },
          "output_type": "display_data"
        }
      ],
      "outputs_reference": null,
      "execution_count": 11,
      "block_group": "7b45fb290fca4b42bb2c69f9abeb2dfd"
    },
    {
      "cell_type": "markdown",
      "source": "<a style='text-decoration:none;line-height:16px;display:flex;color:#5B5B62;padding:10px;justify-content:end;' href='https://deepnote.com?utm_source=created-in-deepnote-cell&projectId=2359c35f-8d13-418a-af3a-7b3d4517ab22' target=\"_blank\">\n<img alt='Created in deepnote.com' style='display:inline;max-height:16px;margin:0px;margin-right:7.5px;' src='data:image/svg+xml;base64,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' > </img>\nCreated in <span style='font-weight:600;margin-left:4px;'>Deepnote</span></a>",
      "metadata": {
        "created_in_deepnote_cell": true,
        "deepnote_cell_type": "markdown"
      }
    }
  ],
  "nbformat": 4,
  "nbformat_minor": 0,
  "metadata": {
    "deepnote_persisted_session": {
      "createdAt": "2024-02-23T20:35:27.832Z"
    },
    "deepnote_notebook_id": "bd16f4a974cb4553a1302ff62e69c684",
    "deepnote_execution_queue": []
  }
}